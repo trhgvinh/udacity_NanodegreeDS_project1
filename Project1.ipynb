{
 "cells": [
  {
   "cell_type": "markdown",
   "id": "0caf9125-01f5-4cde-8181-589b59af0cd0",
   "metadata": {},
   "source": [
    "First read in the main survey dataset of Stack Overflow"
   ]
  },
  {
   "cell_type": "code",
   "execution_count": 1,
   "id": "a1a3a772-b3d0-4551-9f54-e78991877f70",
   "metadata": {},
   "outputs": [
    {
     "data": {
      "text/html": [
       "<div>\n",
       "<style scoped>\n",
       "    .dataframe tbody tr th:only-of-type {\n",
       "        vertical-align: middle;\n",
       "    }\n",
       "\n",
       "    .dataframe tbody tr th {\n",
       "        vertical-align: top;\n",
       "    }\n",
       "\n",
       "    .dataframe thead th {\n",
       "        text-align: right;\n",
       "    }\n",
       "</style>\n",
       "<table border=\"1\" class=\"dataframe\">\n",
       "  <thead>\n",
       "    <tr style=\"text-align: right;\">\n",
       "      <th></th>\n",
       "      <th>Respondent</th>\n",
       "      <th>Professional</th>\n",
       "      <th>ProgramHobby</th>\n",
       "      <th>Country</th>\n",
       "      <th>University</th>\n",
       "      <th>EmploymentStatus</th>\n",
       "      <th>FormalEducation</th>\n",
       "      <th>MajorUndergrad</th>\n",
       "      <th>HomeRemote</th>\n",
       "      <th>CompanySize</th>\n",
       "      <th>...</th>\n",
       "      <th>StackOverflowMakeMoney</th>\n",
       "      <th>Gender</th>\n",
       "      <th>HighestEducationParents</th>\n",
       "      <th>Race</th>\n",
       "      <th>SurveyLong</th>\n",
       "      <th>QuestionsInteresting</th>\n",
       "      <th>QuestionsConfusing</th>\n",
       "      <th>InterestedAnswers</th>\n",
       "      <th>Salary</th>\n",
       "      <th>ExpectedSalary</th>\n",
       "    </tr>\n",
       "  </thead>\n",
       "  <tbody>\n",
       "    <tr>\n",
       "      <th>0</th>\n",
       "      <td>1</td>\n",
       "      <td>Student</td>\n",
       "      <td>Yes, both</td>\n",
       "      <td>United States</td>\n",
       "      <td>No</td>\n",
       "      <td>Not employed, and not looking for work</td>\n",
       "      <td>Secondary school</td>\n",
       "      <td>NaN</td>\n",
       "      <td>NaN</td>\n",
       "      <td>NaN</td>\n",
       "      <td>...</td>\n",
       "      <td>Strongly disagree</td>\n",
       "      <td>Male</td>\n",
       "      <td>High school</td>\n",
       "      <td>White or of European descent</td>\n",
       "      <td>Strongly disagree</td>\n",
       "      <td>Strongly agree</td>\n",
       "      <td>Disagree</td>\n",
       "      <td>Strongly agree</td>\n",
       "      <td>NaN</td>\n",
       "      <td>NaN</td>\n",
       "    </tr>\n",
       "    <tr>\n",
       "      <th>1</th>\n",
       "      <td>2</td>\n",
       "      <td>Student</td>\n",
       "      <td>Yes, both</td>\n",
       "      <td>United Kingdom</td>\n",
       "      <td>Yes, full-time</td>\n",
       "      <td>Employed part-time</td>\n",
       "      <td>Some college/university study without earning ...</td>\n",
       "      <td>Computer science or software engineering</td>\n",
       "      <td>More than half, but not all, the time</td>\n",
       "      <td>20 to 99 employees</td>\n",
       "      <td>...</td>\n",
       "      <td>Strongly disagree</td>\n",
       "      <td>Male</td>\n",
       "      <td>A master's degree</td>\n",
       "      <td>White or of European descent</td>\n",
       "      <td>Somewhat agree</td>\n",
       "      <td>Somewhat agree</td>\n",
       "      <td>Disagree</td>\n",
       "      <td>Strongly agree</td>\n",
       "      <td>NaN</td>\n",
       "      <td>37500.0</td>\n",
       "    </tr>\n",
       "    <tr>\n",
       "      <th>2</th>\n",
       "      <td>3</td>\n",
       "      <td>Professional developer</td>\n",
       "      <td>Yes, both</td>\n",
       "      <td>United Kingdom</td>\n",
       "      <td>No</td>\n",
       "      <td>Employed full-time</td>\n",
       "      <td>Bachelor's degree</td>\n",
       "      <td>Computer science or software engineering</td>\n",
       "      <td>Less than half the time, but at least one day ...</td>\n",
       "      <td>10,000 or more employees</td>\n",
       "      <td>...</td>\n",
       "      <td>Disagree</td>\n",
       "      <td>Male</td>\n",
       "      <td>A professional degree</td>\n",
       "      <td>White or of European descent</td>\n",
       "      <td>Somewhat agree</td>\n",
       "      <td>Agree</td>\n",
       "      <td>Disagree</td>\n",
       "      <td>Agree</td>\n",
       "      <td>113750.0</td>\n",
       "      <td>NaN</td>\n",
       "    </tr>\n",
       "    <tr>\n",
       "      <th>3</th>\n",
       "      <td>4</td>\n",
       "      <td>Professional non-developer who sometimes write...</td>\n",
       "      <td>Yes, both</td>\n",
       "      <td>United States</td>\n",
       "      <td>No</td>\n",
       "      <td>Employed full-time</td>\n",
       "      <td>Doctoral degree</td>\n",
       "      <td>A non-computer-focused engineering discipline</td>\n",
       "      <td>Less than half the time, but at least one day ...</td>\n",
       "      <td>10,000 or more employees</td>\n",
       "      <td>...</td>\n",
       "      <td>Disagree</td>\n",
       "      <td>Male</td>\n",
       "      <td>A doctoral degree</td>\n",
       "      <td>White or of European descent</td>\n",
       "      <td>Agree</td>\n",
       "      <td>Agree</td>\n",
       "      <td>Somewhat agree</td>\n",
       "      <td>Strongly agree</td>\n",
       "      <td>NaN</td>\n",
       "      <td>NaN</td>\n",
       "    </tr>\n",
       "    <tr>\n",
       "      <th>4</th>\n",
       "      <td>5</td>\n",
       "      <td>Professional developer</td>\n",
       "      <td>Yes, I program as a hobby</td>\n",
       "      <td>Switzerland</td>\n",
       "      <td>No</td>\n",
       "      <td>Employed full-time</td>\n",
       "      <td>Master's degree</td>\n",
       "      <td>Computer science or software engineering</td>\n",
       "      <td>Never</td>\n",
       "      <td>10 to 19 employees</td>\n",
       "      <td>...</td>\n",
       "      <td>NaN</td>\n",
       "      <td>NaN</td>\n",
       "      <td>NaN</td>\n",
       "      <td>NaN</td>\n",
       "      <td>NaN</td>\n",
       "      <td>NaN</td>\n",
       "      <td>NaN</td>\n",
       "      <td>NaN</td>\n",
       "      <td>NaN</td>\n",
       "      <td>NaN</td>\n",
       "    </tr>\n",
       "  </tbody>\n",
       "</table>\n",
       "<p>5 rows × 154 columns</p>\n",
       "</div>"
      ],
      "text/plain": [
       "   Respondent                                       Professional  \\\n",
       "0           1                                            Student   \n",
       "1           2                                            Student   \n",
       "2           3                             Professional developer   \n",
       "3           4  Professional non-developer who sometimes write...   \n",
       "4           5                             Professional developer   \n",
       "\n",
       "                ProgramHobby         Country      University  \\\n",
       "0                  Yes, both   United States              No   \n",
       "1                  Yes, both  United Kingdom  Yes, full-time   \n",
       "2                  Yes, both  United Kingdom              No   \n",
       "3                  Yes, both   United States              No   \n",
       "4  Yes, I program as a hobby     Switzerland              No   \n",
       "\n",
       "                         EmploymentStatus  \\\n",
       "0  Not employed, and not looking for work   \n",
       "1                      Employed part-time   \n",
       "2                      Employed full-time   \n",
       "3                      Employed full-time   \n",
       "4                      Employed full-time   \n",
       "\n",
       "                                     FormalEducation  \\\n",
       "0                                   Secondary school   \n",
       "1  Some college/university study without earning ...   \n",
       "2                                  Bachelor's degree   \n",
       "3                                    Doctoral degree   \n",
       "4                                    Master's degree   \n",
       "\n",
       "                                  MajorUndergrad  \\\n",
       "0                                            NaN   \n",
       "1       Computer science or software engineering   \n",
       "2       Computer science or software engineering   \n",
       "3  A non-computer-focused engineering discipline   \n",
       "4       Computer science or software engineering   \n",
       "\n",
       "                                          HomeRemote  \\\n",
       "0                                                NaN   \n",
       "1              More than half, but not all, the time   \n",
       "2  Less than half the time, but at least one day ...   \n",
       "3  Less than half the time, but at least one day ...   \n",
       "4                                              Never   \n",
       "\n",
       "                CompanySize  ... StackOverflowMakeMoney Gender  \\\n",
       "0                       NaN  ...      Strongly disagree   Male   \n",
       "1        20 to 99 employees  ...      Strongly disagree   Male   \n",
       "2  10,000 or more employees  ...               Disagree   Male   \n",
       "3  10,000 or more employees  ...               Disagree   Male   \n",
       "4        10 to 19 employees  ...                    NaN    NaN   \n",
       "\n",
       "  HighestEducationParents                          Race         SurveyLong  \\\n",
       "0             High school  White or of European descent  Strongly disagree   \n",
       "1       A master's degree  White or of European descent     Somewhat agree   \n",
       "2   A professional degree  White or of European descent     Somewhat agree   \n",
       "3       A doctoral degree  White or of European descent              Agree   \n",
       "4                     NaN                           NaN                NaN   \n",
       "\n",
       "  QuestionsInteresting QuestionsConfusing InterestedAnswers    Salary  \\\n",
       "0       Strongly agree           Disagree    Strongly agree       NaN   \n",
       "1       Somewhat agree           Disagree    Strongly agree       NaN   \n",
       "2                Agree           Disagree             Agree  113750.0   \n",
       "3                Agree     Somewhat agree    Strongly agree       NaN   \n",
       "4                  NaN                NaN               NaN       NaN   \n",
       "\n",
       "   ExpectedSalary  \n",
       "0             NaN  \n",
       "1         37500.0  \n",
       "2             NaN  \n",
       "3             NaN  \n",
       "4             NaN  \n",
       "\n",
       "[5 rows x 154 columns]"
      ]
     },
     "execution_count": 1,
     "metadata": {},
     "output_type": "execute_result"
    }
   ],
   "source": [
    "import numpy as np\n",
    "import pandas as pd\n",
    "import matplotlib.pyplot as plt\n",
    "from sklearn.linear_model import LinearRegression\n",
    "from sklearn.model_selection import train_test_split\n",
    "from sklearn.metrics import r2_score, mean_squared_error\n",
    "import seaborn as sns\n",
    "%matplotlib inline\n",
    "\n",
    "df = pd.read_csv('./survey_results_public.csv')\n",
    "df.head()"
   ]
  },
  {
   "cell_type": "markdown",
   "id": "e3b6fe69-add6-45bf-9e99-d4fac1f2db73",
   "metadata": {},
   "source": [
    "The dataset is huge with many columns, to understand about the data in each column I know that I have to refer to the schema data"
   ]
  },
  {
   "cell_type": "code",
   "execution_count": 2,
   "id": "c79c2912-60c0-4314-9d66-5a7b85a83967",
   "metadata": {},
   "outputs": [
    {
     "data": {
      "text/html": [
       "<div>\n",
       "<style scoped>\n",
       "    .dataframe tbody tr th:only-of-type {\n",
       "        vertical-align: middle;\n",
       "    }\n",
       "\n",
       "    .dataframe tbody tr th {\n",
       "        vertical-align: top;\n",
       "    }\n",
       "\n",
       "    .dataframe thead th {\n",
       "        text-align: right;\n",
       "    }\n",
       "</style>\n",
       "<table border=\"1\" class=\"dataframe\">\n",
       "  <thead>\n",
       "    <tr style=\"text-align: right;\">\n",
       "      <th></th>\n",
       "      <th>Column</th>\n",
       "      <th>Question</th>\n",
       "    </tr>\n",
       "  </thead>\n",
       "  <tbody>\n",
       "    <tr>\n",
       "      <th>0</th>\n",
       "      <td>Respondent</td>\n",
       "      <td>Respondent ID number</td>\n",
       "    </tr>\n",
       "    <tr>\n",
       "      <th>1</th>\n",
       "      <td>Professional</td>\n",
       "      <td>Which of the following best describes you?</td>\n",
       "    </tr>\n",
       "    <tr>\n",
       "      <th>2</th>\n",
       "      <td>ProgramHobby</td>\n",
       "      <td>Do you program as a hobby or contribute to ope...</td>\n",
       "    </tr>\n",
       "    <tr>\n",
       "      <th>3</th>\n",
       "      <td>Country</td>\n",
       "      <td>In which country do you currently live?</td>\n",
       "    </tr>\n",
       "    <tr>\n",
       "      <th>4</th>\n",
       "      <td>University</td>\n",
       "      <td>Are you currently enrolled in a formal, degree...</td>\n",
       "    </tr>\n",
       "  </tbody>\n",
       "</table>\n",
       "</div>"
      ],
      "text/plain": [
       "         Column                                           Question\n",
       "0    Respondent                               Respondent ID number\n",
       "1  Professional         Which of the following best describes you?\n",
       "2  ProgramHobby  Do you program as a hobby or contribute to ope...\n",
       "3       Country            In which country do you currently live?\n",
       "4    University  Are you currently enrolled in a formal, degree..."
      ]
     },
     "execution_count": 2,
     "metadata": {},
     "output_type": "execute_result"
    }
   ],
   "source": [
    "schema = pd.read_csv('./survey_results_schema.csv')\n",
    "schema.head()"
   ]
  },
  {
   "cell_type": "markdown",
   "id": "7fe69f51-8004-4ea2-a602-9cf2c498bf01",
   "metadata": {},
   "source": [
    "1st question: What programing language were most popular in this year? - I want to know what columns contain the information about language"
   ]
  },
  {
   "cell_type": "code",
   "execution_count": 3,
   "id": "f541ce09-44b6-4a43-b60e-c02e92b6c523",
   "metadata": {},
   "outputs": [
    {
     "name": "stdout",
     "output_type": "stream",
     "text": [
      "                Column                                           Question\n",
      "88  HaveWorkedLanguage  Which of the following languages have you done...\n",
      "89    WantWorkLanguage  Which of the following languages have you done...\n"
     ]
    }
   ],
   "source": [
    "print(schema[schema['Column'].str.contains(\"Language\")])"
   ]
  },
  {
   "cell_type": "markdown",
   "id": "b2bbc4c4-7855-4a1a-8af5-4e0792f70ce0",
   "metadata": {},
   "source": [
    "So I know that I have data about the programing language in 2 columns \"HaveWorkedLanguage\" and \"WantWorkLanguage\""
   ]
  },
  {
   "cell_type": "code",
   "execution_count": 4,
   "id": "ce5cd9a3-2ede-45fb-8138-d46894cc9d92",
   "metadata": {},
   "outputs": [
    {
     "data": {
      "text/plain": [
       "JavaScript                                              642\n",
       "Python                                                  556\n",
       "Java                                                    544\n",
       "C#                                                      475\n",
       "C#; JavaScript; SQL                                     444\n",
       "                                                       ... \n",
       "Clojure; Go; JavaScript; Python; R; Ruby; TypeScript      1\n",
       "Go; Python; Ruby; SQL; Swift                              1\n",
       "C#; Java; JavaScript; Lua; Objective-C; SQL               1\n",
       "Assembly; C#; Rust; Scala                                 1\n",
       "Erlang; F#; Python; R                                     1\n",
       "Name: WantWorkLanguage, Length: 11239, dtype: int64"
      ]
     },
     "execution_count": 4,
     "metadata": {},
     "output_type": "execute_result"
    }
   ],
   "source": [
    "df.WantWorkLanguage.value_counts()"
   ]
  },
  {
   "cell_type": "code",
   "execution_count": null,
   "id": "50285a6e-fde2-4a65-b165-c66ab16dcb54",
   "metadata": {},
   "outputs": [],
   "source": [
    "val_wantlanguage = df.WantWorkLanguage.value_counts()\n",
    "(val_wantlanguage/df.shape[0]).plot(kind=\"bar\");\n",
    "plt.title(\"What language do you want to work with?\");"
   ]
  },
  {
   "cell_type": "markdown",
   "id": "a8c8c640-becd-4763-9b64-6c0b93c300dc",
   "metadata": {},
   "source": [
    "So the most wanted language the developers want to work with is JavaScript"
   ]
  },
  {
   "cell_type": "code",
   "execution_count": 10,
   "id": "f3b51f03-9c57-4447-8b86-bcd0582751eb",
   "metadata": {},
   "outputs": [
    {
     "data": {
      "text/plain": [
       "C#; JavaScript; SQL                                      1276\n",
       "JavaScript; PHP; SQL                                     1143\n",
       "Java                                                      913\n",
       "JavaScript                                                807\n",
       "JavaScript; PHP                                           662\n",
       "                                                         ... \n",
       "C; C++; JavaScript; Matlab; Python; R; TypeScript           1\n",
       "C++; Go; Java; JavaScript; Perl; Python                     1\n",
       "C; C++; JavaScript; Lua; Perl; PHP; Python; Ruby; SQL       1\n",
       "Assembly; C; C++; C#; Matlab; VB.NET                        1\n",
       "C++; Python; R; Ruby; Scala; SQL                            1\n",
       "Name: HaveWorkedLanguage, Length: 8438, dtype: int64"
      ]
     },
     "execution_count": 10,
     "metadata": {},
     "output_type": "execute_result"
    }
   ],
   "source": [
    "df.HaveWorkedLanguage.value_counts()"
   ]
  },
  {
   "cell_type": "markdown",
   "id": "36ecd42b-c3c7-47b3-9fe6-201efb394ff6",
   "metadata": {},
   "source": [
    "JavaScript is also the most popular language that the developers have worked with"
   ]
  },
  {
   "cell_type": "code",
   "execution_count": 15,
   "id": "a36ab849-7f44-41cc-b0eb-ce537cf2a555",
   "metadata": {},
   "outputs": [
    {
     "data": {
      "text/plain": [
       "True     0.445108\n",
       "False    0.267551\n",
       "Name: HaveWorkedLanguage, dtype: float64"
      ]
     },
     "execution_count": 15,
     "metadata": {},
     "output_type": "execute_result"
    }
   ],
   "source": [
    "df['HaveWorkedLanguage'].str.contains(\"JavaScript\").value_counts()/df.shape[0]"
   ]
  },
  {
   "cell_type": "code",
   "execution_count": 16,
   "id": "ab8ff2f6-5a1f-43c5-90c5-56fdcd520e61",
   "metadata": {},
   "outputs": [
    {
     "data": {
      "text/plain": [
       "False    0.339430\n",
       "True     0.317695\n",
       "Name: WantWorkLanguage, dtype: float64"
      ]
     },
     "execution_count": 16,
     "metadata": {},
     "output_type": "execute_result"
    }
   ],
   "source": [
    "df['WantWorkLanguage'].str.contains(\"JavaScript\").value_counts()/df.shape[0]"
   ]
  },
  {
   "cell_type": "markdown",
   "id": "33f2c090-9b23-40af-ac70-821732a1ed66",
   "metadata": {},
   "source": [
    "The above results also show that JavaScript is so popular, nearly 2/3 among the group answered about HaveWorkedLanguage have worked with JavaScript (see the ratio of True vs False) and more than 1/2 (see the ratio of True vs False) among the group anwsered about WantWorkLanguage want to work with it."
   ]
  },
  {
   "cell_type": "markdown",
   "id": "5a14dd23-deb0-4ed1-9205-25402e62324c",
   "metadata": {},
   "source": [
    "2nd question: who have the higher salary btw the developers with and without the most popular language JavaScript (have worked with JavaScript or not)?"
   ]
  },
  {
   "cell_type": "code",
   "execution_count": 18,
   "id": "e924d09d-4060-4ed5-b2f4-c5e9d4baa1b2",
   "metadata": {},
   "outputs": [
    {
     "data": {
      "text/plain": [
       "56396.92270639794"
      ]
     },
     "execution_count": 18,
     "metadata": {},
     "output_type": "execute_result"
    }
   ],
   "source": [
    "df[df['HaveWorkedLanguage'].str.contains(\"JavaScript\")==True]['Salary'].mean()"
   ]
  },
  {
   "cell_type": "code",
   "execution_count": 19,
   "id": "1a937dcc-c8c5-4433-9f6d-8c983a151af2",
   "metadata": {},
   "outputs": [
    {
     "data": {
      "text/plain": [
       "58155.64831958471"
      ]
     },
     "execution_count": 19,
     "metadata": {},
     "output_type": "execute_result"
    }
   ],
   "source": [
    "df[df['HaveWorkedLanguage'].str.contains(\"JavaScript\")==False]['Salary'].mean()"
   ]
  },
  {
   "cell_type": "code",
   "execution_count": 20,
   "id": "e2c9e5a8-d9dd-445f-b212-6617db1ebfc3",
   "metadata": {},
   "outputs": [
    {
     "data": {
      "text/plain": [
       "55493.912634418375"
      ]
     },
     "execution_count": 20,
     "metadata": {},
     "output_type": "execute_result"
    }
   ],
   "source": [
    "df[df['WantWorkLanguage'].str.contains(\"JavaScript\")==True]['Salary'].mean()"
   ]
  },
  {
   "cell_type": "code",
   "execution_count": 21,
   "id": "1559f508-a852-499e-aeec-9f5fe9cfbce1",
   "metadata": {},
   "outputs": [
    {
     "data": {
      "text/plain": [
       "58493.89933337937"
      ]
     },
     "execution_count": 21,
     "metadata": {},
     "output_type": "execute_result"
    }
   ],
   "source": [
    "df[df['WantWorkLanguage'].str.contains(\"JavaScript\")==False]['Salary'].mean()"
   ]
  },
  {
   "cell_type": "markdown",
   "id": "45458ea5-1f77-42ac-99c9-0ba51be93cec",
   "metadata": {},
   "source": [
    "So I can see that the developers who want to work with JavaScript or who have worked with JavaScript have lower salary than the developers don't have relationship with JavaScript. \n",
    "It's understandable, JavaScript is most popular language so it cannot help the developers get higher salary. To get higher salary the developers need to master the more difficult languages"
   ]
  },
  {
   "cell_type": "code",
   "execution_count": 22,
   "id": "f269f964-daef-47ec-bcd5-0b720c4fa805",
   "metadata": {},
   "outputs": [
    {
     "data": {
      "text/plain": [
       "HaveWorkedLanguage\n",
       "Assembly                                                                                                                                101809.954751\n",
       "Assembly; C                                                                                                                              26382.440394\n",
       "Assembly; C#                                                                                                                             37276.397262\n",
       "Assembly; C#; Clojure                                                                                                                             NaN\n",
       "Assembly; C#; CoffeeScript; Dart; Go; Haskell; Java; JavaScript; Lua; Matlab; PHP; Python; R; Ruby; Rust; Smalltalk; SQL; TypeScript              NaN\n",
       "                                                                                                                                            ...      \n",
       "VB.NET; VBA; Visual Basic 6                                                                                                                       NaN\n",
       "VB.NET; Visual Basic 6                                                                                                                            NaN\n",
       "VBA                                                                                                                                      77659.434992\n",
       "VBA; Visual Basic 6                                                                                                                               NaN\n",
       "Visual Basic 6                                                                                                                           97000.000000\n",
       "Name: Salary, Length: 8438, dtype: float64"
      ]
     },
     "execution_count": 22,
     "metadata": {},
     "output_type": "execute_result"
    }
   ],
   "source": [
    "df.groupby(['HaveWorkedLanguage'])['Salary'].mean()"
   ]
  },
  {
   "cell_type": "code",
   "execution_count": 23,
   "id": "f57b2d7e-f3c8-44bc-bbb9-8b562fe11685",
   "metadata": {},
   "outputs": [
    {
     "data": {
      "text/plain": [
       "WantWorkLanguage\n",
       "Assembly                                                                                                                                                    56670.324150\n",
       "Assembly; C                                                                                                                                                 58582.312455\n",
       "Assembly; C#                                                                                                                                                55000.000000\n",
       "Assembly; C#; Clojure; Dart; Elixir; Erlang; F#; Groovy; Hack; Julia; Lua; Matlab; Objective-C; Rust; Scala; Smalltalk; TypeScript; VBA; Visual Basic 6              NaN\n",
       "Assembly; C#; Clojure; Dart; Groovy; Ruby; Scala                                                                                                                     NaN\n",
       "                                                                                                                                                               ...      \n",
       "VB.NET; VBA                                                                                                                                                106060.606061\n",
       "VB.NET; Visual Basic 6                                                                                                                                               NaN\n",
       "VBA                                                                                                                                                                  NaN\n",
       "VBA; Visual Basic 6                                                                                                                                         19354.838710\n",
       "Visual Basic 6                                                                                                                                               8125.000000\n",
       "Name: Salary, Length: 11239, dtype: float64"
      ]
     },
     "execution_count": 23,
     "metadata": {},
     "output_type": "execute_result"
    }
   ],
   "source": [
    "df.groupby(['WantWorkLanguage'])['Salary'].mean()"
   ]
  },
  {
   "cell_type": "markdown",
   "id": "a4cd947d-dbf5-42fe-9dd1-1dd936740ecb",
   "metadata": {},
   "source": [
    "So I can confirm my conlusion about the higher salary should come from more difficult languages. With the above sorted result of mean salary with WantWorkLanguage and HaveWorkedLanguage, the highest salary should be earned with the language like Assembly, C, C#."
   ]
  },
  {
   "cell_type": "code",
   "execution_count": null,
   "id": "edebcc24-b168-42f6-85de-f087d7b4de53",
   "metadata": {},
   "outputs": [],
   "source": []
  }
 ],
 "metadata": {
  "kernelspec": {
   "display_name": "Python 3 (ipykernel)",
   "language": "python",
   "name": "python3"
  },
  "language_info": {
   "codemirror_mode": {
    "name": "ipython",
    "version": 3
   },
   "file_extension": ".py",
   "mimetype": "text/x-python",
   "name": "python",
   "nbconvert_exporter": "python",
   "pygments_lexer": "ipython3",
   "version": "3.9.5"
  }
 },
 "nbformat": 4,
 "nbformat_minor": 5
}
